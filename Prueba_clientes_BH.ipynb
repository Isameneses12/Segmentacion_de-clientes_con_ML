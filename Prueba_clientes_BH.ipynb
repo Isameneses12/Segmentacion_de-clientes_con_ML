{
 "cells": [
  {
   "cell_type": "code",
   "execution_count": 1,
   "metadata": {},
   "outputs": [],
   "source": [
    "import pandas as pd\n",
    "import matplotlib.pyplot as plt\n",
    "%matplotlib inline\n",
    "import seaborn as sns\n",
    "plt.rcParams['figure.figsize'] = (15, 5)"
   ]
  },
  {
   "cell_type": "code",
   "execution_count": 2,
   "metadata": {},
   "outputs": [
    {
     "data": {
      "text/html": [
       "<div>\n",
       "<style scoped>\n",
       "    .dataframe tbody tr th:only-of-type {\n",
       "        vertical-align: middle;\n",
       "    }\n",
       "\n",
       "    .dataframe tbody tr th {\n",
       "        vertical-align: top;\n",
       "    }\n",
       "\n",
       "    .dataframe thead th {\n",
       "        text-align: right;\n",
       "    }\n",
       "</style>\n",
       "<table border=\"1\" class=\"dataframe\">\n",
       "  <thead>\n",
       "    <tr style=\"text-align: right;\">\n",
       "      <th></th>\n",
       "      <th>Usuario Afiliado</th>\n",
       "      <th>Recencia</th>\n",
       "      <th>Frecuencia</th>\n",
       "      <th>Ticket promedio</th>\n",
       "      <th>Total ventas</th>\n",
       "    </tr>\n",
       "  </thead>\n",
       "  <tbody>\n",
       "    <tr>\n",
       "      <th>0</th>\n",
       "      <td>id_00000001</td>\n",
       "      <td>25</td>\n",
       "      <td>12</td>\n",
       "      <td>5381832</td>\n",
       "      <td>64581988</td>\n",
       "    </tr>\n",
       "    <tr>\n",
       "      <th>1</th>\n",
       "      <td>id_00000002</td>\n",
       "      <td>0</td>\n",
       "      <td>6</td>\n",
       "      <td>5234308</td>\n",
       "      <td>31405850</td>\n",
       "    </tr>\n",
       "    <tr>\n",
       "      <th>2</th>\n",
       "      <td>id_00000003</td>\n",
       "      <td>5</td>\n",
       "      <td>9</td>\n",
       "      <td>4498677</td>\n",
       "      <td>40488095</td>\n",
       "    </tr>\n",
       "    <tr>\n",
       "      <th>3</th>\n",
       "      <td>id_00000004</td>\n",
       "      <td>6</td>\n",
       "      <td>5</td>\n",
       "      <td>3752627</td>\n",
       "      <td>18763137</td>\n",
       "    </tr>\n",
       "    <tr>\n",
       "      <th>4</th>\n",
       "      <td>id_00000005</td>\n",
       "      <td>5</td>\n",
       "      <td>1</td>\n",
       "      <td>3491384</td>\n",
       "      <td>3491384</td>\n",
       "    </tr>\n",
       "  </tbody>\n",
       "</table>\n",
       "</div>"
      ],
      "text/plain": [
       "  Usuario Afiliado  Recencia  Frecuencia   Ticket promedio    Total ventas \n",
       "0      id_00000001        25          12            5381832        64581988\n",
       "1      id_00000002         0           6            5234308        31405850\n",
       "2      id_00000003         5           9            4498677        40488095\n",
       "3      id_00000004         6           5            3752627        18763137\n",
       "4      id_00000005         5           1            3491384         3491384"
      ]
     },
     "execution_count": 2,
     "metadata": {},
     "output_type": "execute_result"
    }
   ],
   "source": [
    "df= pd.read_csv(r\"C:\\Users\\isa_m\\Dropbox\\Prueba Big holding\\ML\\prueba_clientes_bh.csv\")\n",
    "df.head()"
   ]
  },
  {
   "cell_type": "code",
   "execution_count": 3,
   "metadata": {},
   "outputs": [
    {
     "data": {
      "text/html": [
       "<div>\n",
       "<style scoped>\n",
       "    .dataframe tbody tr th:only-of-type {\n",
       "        vertical-align: middle;\n",
       "    }\n",
       "\n",
       "    .dataframe tbody tr th {\n",
       "        vertical-align: top;\n",
       "    }\n",
       "\n",
       "    .dataframe thead th {\n",
       "        text-align: right;\n",
       "    }\n",
       "</style>\n",
       "<table border=\"1\" class=\"dataframe\">\n",
       "  <thead>\n",
       "    <tr style=\"text-align: right;\">\n",
       "      <th></th>\n",
       "      <th>usuario_afiliado</th>\n",
       "      <th>recencia</th>\n",
       "      <th>frecuencia</th>\n",
       "      <th>ticket_promedio</th>\n",
       "      <th>total_ventas</th>\n",
       "    </tr>\n",
       "  </thead>\n",
       "  <tbody>\n",
       "    <tr>\n",
       "      <th>0</th>\n",
       "      <td>id_00000001</td>\n",
       "      <td>25</td>\n",
       "      <td>12</td>\n",
       "      <td>5381832</td>\n",
       "      <td>64581988</td>\n",
       "    </tr>\n",
       "    <tr>\n",
       "      <th>1</th>\n",
       "      <td>id_00000002</td>\n",
       "      <td>0</td>\n",
       "      <td>6</td>\n",
       "      <td>5234308</td>\n",
       "      <td>31405850</td>\n",
       "    </tr>\n",
       "    <tr>\n",
       "      <th>2</th>\n",
       "      <td>id_00000003</td>\n",
       "      <td>5</td>\n",
       "      <td>9</td>\n",
       "      <td>4498677</td>\n",
       "      <td>40488095</td>\n",
       "    </tr>\n",
       "    <tr>\n",
       "      <th>3</th>\n",
       "      <td>id_00000004</td>\n",
       "      <td>6</td>\n",
       "      <td>5</td>\n",
       "      <td>3752627</td>\n",
       "      <td>18763137</td>\n",
       "    </tr>\n",
       "    <tr>\n",
       "      <th>4</th>\n",
       "      <td>id_00000005</td>\n",
       "      <td>5</td>\n",
       "      <td>1</td>\n",
       "      <td>3491384</td>\n",
       "      <td>3491384</td>\n",
       "    </tr>\n",
       "  </tbody>\n",
       "</table>\n",
       "</div>"
      ],
      "text/plain": [
       "  usuario_afiliado  recencia  frecuencia  ticket_promedio  total_ventas\n",
       "0      id_00000001        25          12          5381832      64581988\n",
       "1      id_00000002         0           6          5234308      31405850\n",
       "2      id_00000003         5           9          4498677      40488095\n",
       "3      id_00000004         6           5          3752627      18763137\n",
       "4      id_00000005         5           1          3491384       3491384"
      ]
     },
     "execution_count": 3,
     "metadata": {},
     "output_type": "execute_result"
    }
   ],
   "source": [
    "#Renombrar las columnas del df\n",
    "df.columns=[\"usuario_afiliado\", \"recencia\", \"frecuencia\", \"ticket_promedio\", \"total_ventas\"]\n",
    "df.head()"
   ]
  },
  {
   "cell_type": "code",
   "execution_count": 4,
   "metadata": {},
   "outputs": [
    {
     "name": "stdout",
     "output_type": "stream",
     "text": [
      "<class 'pandas.core.frame.DataFrame'>\n",
      "RangeIndex: 236613 entries, 0 to 236612\n",
      "Data columns (total 5 columns):\n",
      "usuario_afiliado    236613 non-null object\n",
      "recencia            236613 non-null int64\n",
      "frecuencia          236613 non-null int64\n",
      "ticket_promedio     236613 non-null int64\n",
      "total_ventas        236613 non-null int64\n",
      "dtypes: int64(4), object(1)\n",
      "memory usage: 9.0+ MB\n"
     ]
    }
   ],
   "source": [
    "df.info()"
   ]
  },
  {
   "cell_type": "code",
   "execution_count": 5,
   "metadata": {},
   "outputs": [
    {
     "data": {
      "text/html": [
       "<div>\n",
       "<style scoped>\n",
       "    .dataframe tbody tr th:only-of-type {\n",
       "        vertical-align: middle;\n",
       "    }\n",
       "\n",
       "    .dataframe tbody tr th {\n",
       "        vertical-align: top;\n",
       "    }\n",
       "\n",
       "    .dataframe thead th {\n",
       "        text-align: right;\n",
       "    }\n",
       "</style>\n",
       "<table border=\"1\" class=\"dataframe\">\n",
       "  <thead>\n",
       "    <tr style=\"text-align: right;\">\n",
       "      <th></th>\n",
       "      <th>recencia</th>\n",
       "      <th>frecuencia</th>\n",
       "      <th>ticket_promedio</th>\n",
       "      <th>total_ventas</th>\n",
       "    </tr>\n",
       "  </thead>\n",
       "  <tbody>\n",
       "    <tr>\n",
       "      <th>count</th>\n",
       "      <td>236613.000000</td>\n",
       "      <td>236613.000000</td>\n",
       "      <td>2.366130e+05</td>\n",
       "      <td>2.366130e+05</td>\n",
       "    </tr>\n",
       "    <tr>\n",
       "      <th>mean</th>\n",
       "      <td>65.622569</td>\n",
       "      <td>2.680854</td>\n",
       "      <td>6.548186e+04</td>\n",
       "      <td>2.158418e+05</td>\n",
       "    </tr>\n",
       "    <tr>\n",
       "      <th>std</th>\n",
       "      <td>52.296993</td>\n",
       "      <td>3.562452</td>\n",
       "      <td>7.104346e+04</td>\n",
       "      <td>5.845088e+05</td>\n",
       "    </tr>\n",
       "    <tr>\n",
       "      <th>min</th>\n",
       "      <td>0.000000</td>\n",
       "      <td>1.000000</td>\n",
       "      <td>1.050000e+02</td>\n",
       "      <td>1.050000e+02</td>\n",
       "    </tr>\n",
       "    <tr>\n",
       "      <th>25%</th>\n",
       "      <td>19.000000</td>\n",
       "      <td>1.000000</td>\n",
       "      <td>2.235000e+04</td>\n",
       "      <td>2.960000e+04</td>\n",
       "    </tr>\n",
       "    <tr>\n",
       "      <th>50%</th>\n",
       "      <td>55.000000</td>\n",
       "      <td>1.000000</td>\n",
       "      <td>5.216000e+04</td>\n",
       "      <td>8.092500e+04</td>\n",
       "    </tr>\n",
       "    <tr>\n",
       "      <th>75%</th>\n",
       "      <td>106.000000</td>\n",
       "      <td>3.000000</td>\n",
       "      <td>8.665000e+04</td>\n",
       "      <td>2.039260e+05</td>\n",
       "    </tr>\n",
       "    <tr>\n",
       "      <th>max</th>\n",
       "      <td>182.000000</td>\n",
       "      <td>146.000000</td>\n",
       "      <td>5.381832e+06</td>\n",
       "      <td>6.458199e+07</td>\n",
       "    </tr>\n",
       "  </tbody>\n",
       "</table>\n",
       "</div>"
      ],
      "text/plain": [
       "            recencia     frecuencia  ticket_promedio  total_ventas\n",
       "count  236613.000000  236613.000000     2.366130e+05  2.366130e+05\n",
       "mean       65.622569       2.680854     6.548186e+04  2.158418e+05\n",
       "std        52.296993       3.562452     7.104346e+04  5.845088e+05\n",
       "min         0.000000       1.000000     1.050000e+02  1.050000e+02\n",
       "25%        19.000000       1.000000     2.235000e+04  2.960000e+04\n",
       "50%        55.000000       1.000000     5.216000e+04  8.092500e+04\n",
       "75%       106.000000       3.000000     8.665000e+04  2.039260e+05\n",
       "max       182.000000     146.000000     5.381832e+06  6.458199e+07"
      ]
     },
     "execution_count": 5,
     "metadata": {},
     "output_type": "execute_result"
    }
   ],
   "source": [
    "stats= df.describe()\n",
    "stats"
   ]
  },
  {
   "cell_type": "code",
   "execution_count": 6,
   "metadata": {},
   "outputs": [
    {
     "data": {
      "image/png": "[encoded data removed]",
      "text/plain": [
       "<Figure size 432x288 with 1 Axes>"
      ]
     },
     "metadata": {
      "needs_background": "light"
     },
     "output_type": "display_data"
    },
    {
     "data": {
      "image/png": "[encoded data removed]",
      "text/plain": [
       "<Figure size 432x288 with 1 Axes>"
      ]
     },
     "metadata": {
      "needs_background": "light"
     },
     "output_type": "display_data"
    }
   ],
   "source": [
    "\n",
    "plt.subplot(1,2,1)\n",
    "df.boxplot(column= 'recencia')\n",
    "plt.title('Recencia')\n",
    "plt.show()\n",
    "\n",
    "plt.subplot(1,2,2)\n",
    "df.boxplot(column= 'frecuencia')\n",
    "plt.title('Frecuencia')\n",
    "plt.show()\n",
    "\n"
   ]
  },
  {
   "cell_type": "code",
   "execution_count": 7,
   "metadata": {},
   "outputs": [
    {
     "data": {
      "image/png": "[encoded data removed]",
      "text/plain": [
       "<Figure size 432x288 with 1 Axes>"
      ]
     },
     "metadata": {
      "needs_background": "light"
     },
     "output_type": "display_data"
    },
    {
     "data": {
      "image/png": "[encoded data removed]",
      "text/plain": [
       "<Figure size 432x288 with 1 Axes>"
      ]
     },
     "metadata": {
      "needs_background": "light"
     },
     "output_type": "display_data"
    }
   ],
   "source": [
    "plt.subplot(1,2,1)\n",
    "df.boxplot(column= 'ticket_promedio')\n",
    "plt.title('ticket_promedio')\n",
    "plt.show()\n",
    "\n",
    "plt.subplot(1,2,2)\n",
    "df.boxplot(column= 'total_ventas')\n",
    "plt.title('total_ventas')\n",
    "plt.show()"
   ]
  },
  {
   "cell_type": "code",
   "execution_count": null,
   "metadata": {},
   "outputs": [],
   "source": []
  },
  {
   "cell_type": "code",
   "execution_count": 8,
   "metadata": {},
   "outputs": [
    {
     "data": {
      "text/html": [
       "<div>\n",
       "<style scoped>\n",
       "    .dataframe tbody tr th:only-of-type {\n",
       "        vertical-align: middle;\n",
       "    }\n",
       "\n",
       "    .dataframe tbody tr th {\n",
       "        vertical-align: top;\n",
       "    }\n",
       "\n",
       "    .dataframe thead th {\n",
       "        text-align: right;\n",
       "    }\n",
       "</style>\n",
       "<table border=\"1\" class=\"dataframe\">\n",
       "  <thead>\n",
       "    <tr style=\"text-align: right;\">\n",
       "      <th></th>\n",
       "      <th>usuario_afiliado</th>\n",
       "      <th>recencia</th>\n",
       "      <th>frecuencia</th>\n",
       "      <th>ticket_promedio</th>\n",
       "      <th>total_ventas</th>\n",
       "    </tr>\n",
       "  </thead>\n",
       "  <tbody>\n",
       "    <tr>\n",
       "      <th>236542</th>\n",
       "      <td>id_00236543</td>\n",
       "      <td>35</td>\n",
       "      <td>1</td>\n",
       "      <td>400</td>\n",
       "      <td>400</td>\n",
       "    </tr>\n",
       "    <tr>\n",
       "      <th>236543</th>\n",
       "      <td>id_00236544</td>\n",
       "      <td>7</td>\n",
       "      <td>1</td>\n",
       "      <td>400</td>\n",
       "      <td>400</td>\n",
       "    </tr>\n",
       "    <tr>\n",
       "      <th>236544</th>\n",
       "      <td>id_00236545</td>\n",
       "      <td>7</td>\n",
       "      <td>1</td>\n",
       "      <td>400</td>\n",
       "      <td>400</td>\n",
       "    </tr>\n",
       "    <tr>\n",
       "      <th>236545</th>\n",
       "      <td>id_00236546</td>\n",
       "      <td>6</td>\n",
       "      <td>1</td>\n",
       "      <td>400</td>\n",
       "      <td>400</td>\n",
       "    </tr>\n",
       "    <tr>\n",
       "      <th>236612</th>\n",
       "      <td>id_00236613</td>\n",
       "      <td>67</td>\n",
       "      <td>1</td>\n",
       "      <td>105</td>\n",
       "      <td>105</td>\n",
       "    </tr>\n",
       "  </tbody>\n",
       "</table>\n",
       "</div>"
      ],
      "text/plain": [
       "       usuario_afiliado  recencia  frecuencia  ticket_promedio  total_ventas\n",
       "236542      id_00236543        35           1              400           400\n",
       "236543      id_00236544         7           1              400           400\n",
       "236544      id_00236545         7           1              400           400\n",
       "236545      id_00236546         6           1              400           400\n",
       "236612      id_00236613        67           1              105           105"
      ]
     },
     "execution_count": 8,
     "metadata": {},
     "output_type": "execute_result"
    }
   ],
   "source": [
    "#Teniendo en cuenta que el negocio es de retail, se decide retirar del DS cualquier precio por debajo de los 400 pesos.\n",
    "#Fueron eliminadas 67 filas\n",
    "df.drop(range(236546, 236612, 1), axis=0, inplace= True)\n",
    "df.tail()"
   ]
  },
  {
   "cell_type": "code",
   "execution_count": 9,
   "metadata": {},
   "outputs": [
    {
     "data": {
      "text/html": [
       "<div>\n",
       "<style scoped>\n",
       "    .dataframe tbody tr th:only-of-type {\n",
       "        vertical-align: middle;\n",
       "    }\n",
       "\n",
       "    .dataframe tbody tr th {\n",
       "        vertical-align: top;\n",
       "    }\n",
       "\n",
       "    .dataframe thead th {\n",
       "        text-align: right;\n",
       "    }\n",
       "</style>\n",
       "<table border=\"1\" class=\"dataframe\">\n",
       "  <thead>\n",
       "    <tr style=\"text-align: right;\">\n",
       "      <th></th>\n",
       "      <th>usuario_afiliado</th>\n",
       "      <th>recencia</th>\n",
       "      <th>frecuencia</th>\n",
       "      <th>ticket_promedio</th>\n",
       "      <th>total_ventas</th>\n",
       "    </tr>\n",
       "  </thead>\n",
       "  <tbody>\n",
       "    <tr>\n",
       "      <th>236541</th>\n",
       "      <td>id_00236542</td>\n",
       "      <td>39</td>\n",
       "      <td>1</td>\n",
       "      <td>400</td>\n",
       "      <td>400</td>\n",
       "    </tr>\n",
       "    <tr>\n",
       "      <th>236542</th>\n",
       "      <td>id_00236543</td>\n",
       "      <td>35</td>\n",
       "      <td>1</td>\n",
       "      <td>400</td>\n",
       "      <td>400</td>\n",
       "    </tr>\n",
       "    <tr>\n",
       "      <th>236543</th>\n",
       "      <td>id_00236544</td>\n",
       "      <td>7</td>\n",
       "      <td>1</td>\n",
       "      <td>400</td>\n",
       "      <td>400</td>\n",
       "    </tr>\n",
       "    <tr>\n",
       "      <th>236544</th>\n",
       "      <td>id_00236545</td>\n",
       "      <td>7</td>\n",
       "      <td>1</td>\n",
       "      <td>400</td>\n",
       "      <td>400</td>\n",
       "    </tr>\n",
       "    <tr>\n",
       "      <th>236545</th>\n",
       "      <td>id_00236546</td>\n",
       "      <td>6</td>\n",
       "      <td>1</td>\n",
       "      <td>400</td>\n",
       "      <td>400</td>\n",
       "    </tr>\n",
       "  </tbody>\n",
       "</table>\n",
       "</div>"
      ],
      "text/plain": [
       "       usuario_afiliado  recencia  frecuencia  ticket_promedio  total_ventas\n",
       "236541      id_00236542        39           1              400           400\n",
       "236542      id_00236543        35           1              400           400\n",
       "236543      id_00236544         7           1              400           400\n",
       "236544      id_00236545         7           1              400           400\n",
       "236545      id_00236546         6           1              400           400"
      ]
     },
     "execution_count": 9,
     "metadata": {},
     "output_type": "execute_result"
    }
   ],
   "source": [
    "df.drop(236612, axis=0, inplace=True)\n",
    "df.tail()"
   ]
  },
  {
   "cell_type": "code",
   "execution_count": 10,
   "metadata": {},
   "outputs": [
    {
     "data": {
      "text/html": [
       "<div>\n",
       "<style scoped>\n",
       "    .dataframe tbody tr th:only-of-type {\n",
       "        vertical-align: middle;\n",
       "    }\n",
       "\n",
       "    .dataframe tbody tr th {\n",
       "        vertical-align: top;\n",
       "    }\n",
       "\n",
       "    .dataframe thead th {\n",
       "        text-align: right;\n",
       "    }\n",
       "</style>\n",
       "<table border=\"1\" class=\"dataframe\">\n",
       "  <thead>\n",
       "    <tr style=\"text-align: right;\">\n",
       "      <th></th>\n",
       "      <th>recencia</th>\n",
       "      <th>frecuencia</th>\n",
       "      <th>ticket_promedio</th>\n",
       "      <th>total_ventas</th>\n",
       "    </tr>\n",
       "  </thead>\n",
       "  <tbody>\n",
       "    <tr>\n",
       "      <th>count</th>\n",
       "      <td>236546.000000</td>\n",
       "      <td>236546.000000</td>\n",
       "      <td>2.365460e+05</td>\n",
       "      <td>2.365460e+05</td>\n",
       "    </tr>\n",
       "    <tr>\n",
       "      <th>mean</th>\n",
       "      <td>65.615386</td>\n",
       "      <td>2.681330</td>\n",
       "      <td>6.550032e+04</td>\n",
       "      <td>2.159029e+05</td>\n",
       "    </tr>\n",
       "    <tr>\n",
       "      <th>std</th>\n",
       "      <td>52.295799</td>\n",
       "      <td>3.562844</td>\n",
       "      <td>7.104505e+04</td>\n",
       "      <td>5.845803e+05</td>\n",
       "    </tr>\n",
       "    <tr>\n",
       "      <th>min</th>\n",
       "      <td>0.000000</td>\n",
       "      <td>1.000000</td>\n",
       "      <td>4.000000e+02</td>\n",
       "      <td>4.000000e+02</td>\n",
       "    </tr>\n",
       "    <tr>\n",
       "      <th>25%</th>\n",
       "      <td>19.000000</td>\n",
       "      <td>1.000000</td>\n",
       "      <td>2.235000e+04</td>\n",
       "      <td>2.965000e+04</td>\n",
       "    </tr>\n",
       "    <tr>\n",
       "      <th>50%</th>\n",
       "      <td>55.000000</td>\n",
       "      <td>1.000000</td>\n",
       "      <td>5.218300e+04</td>\n",
       "      <td>8.100000e+04</td>\n",
       "    </tr>\n",
       "    <tr>\n",
       "      <th>75%</th>\n",
       "      <td>106.000000</td>\n",
       "      <td>3.000000</td>\n",
       "      <td>8.665000e+04</td>\n",
       "      <td>2.040000e+05</td>\n",
       "    </tr>\n",
       "    <tr>\n",
       "      <th>max</th>\n",
       "      <td>182.000000</td>\n",
       "      <td>146.000000</td>\n",
       "      <td>5.381832e+06</td>\n",
       "      <td>6.458199e+07</td>\n",
       "    </tr>\n",
       "  </tbody>\n",
       "</table>\n",
       "</div>"
      ],
      "text/plain": [
       "            recencia     frecuencia  ticket_promedio  total_ventas\n",
       "count  236546.000000  236546.000000     2.365460e+05  2.365460e+05\n",
       "mean       65.615386       2.681330     6.550032e+04  2.159029e+05\n",
       "std        52.295799       3.562844     7.104505e+04  5.845803e+05\n",
       "min         0.000000       1.000000     4.000000e+02  4.000000e+02\n",
       "25%        19.000000       1.000000     2.235000e+04  2.965000e+04\n",
       "50%        55.000000       1.000000     5.218300e+04  8.100000e+04\n",
       "75%       106.000000       3.000000     8.665000e+04  2.040000e+05\n",
       "max       182.000000     146.000000     5.381832e+06  6.458199e+07"
      ]
     },
     "execution_count": 10,
     "metadata": {},
     "output_type": "execute_result"
    }
   ],
   "source": [
    "stats= df.describe()\n",
    "stats"
   ]
  },
  {
   "cell_type": "code",
   "execution_count": 11,
   "metadata": {},
   "outputs": [
    {
     "data": {
      "text/html": [
       "<div>\n",
       "<style scoped>\n",
       "    .dataframe tbody tr th:only-of-type {\n",
       "        vertical-align: middle;\n",
       "    }\n",
       "\n",
       "    .dataframe tbody tr th {\n",
       "        vertical-align: top;\n",
       "    }\n",
       "\n",
       "    .dataframe thead th {\n",
       "        text-align: right;\n",
       "    }\n",
       "</style>\n",
       "<table border=\"1\" class=\"dataframe\">\n",
       "  <thead>\n",
       "    <tr style=\"text-align: right;\">\n",
       "      <th></th>\n",
       "      <th>usuario_afiliado</th>\n",
       "      <th>recencia</th>\n",
       "      <th>frecuencia</th>\n",
       "      <th>ticket_promedio</th>\n",
       "      <th>total_ventas</th>\n",
       "    </tr>\n",
       "  </thead>\n",
       "  <tbody>\n",
       "    <tr>\n",
       "      <th>0</th>\n",
       "      <td>id_00000001</td>\n",
       "      <td>25</td>\n",
       "      <td>12</td>\n",
       "      <td>5381832</td>\n",
       "      <td>64581988</td>\n",
       "    </tr>\n",
       "    <tr>\n",
       "      <th>1</th>\n",
       "      <td>id_00000002</td>\n",
       "      <td>0</td>\n",
       "      <td>6</td>\n",
       "      <td>5234308</td>\n",
       "      <td>31405850</td>\n",
       "    </tr>\n",
       "    <tr>\n",
       "      <th>2</th>\n",
       "      <td>id_00000003</td>\n",
       "      <td>5</td>\n",
       "      <td>9</td>\n",
       "      <td>4498677</td>\n",
       "      <td>40488095</td>\n",
       "    </tr>\n",
       "    <tr>\n",
       "      <th>3</th>\n",
       "      <td>id_00000004</td>\n",
       "      <td>6</td>\n",
       "      <td>5</td>\n",
       "      <td>3752627</td>\n",
       "      <td>18763137</td>\n",
       "    </tr>\n",
       "    <tr>\n",
       "      <th>4</th>\n",
       "      <td>id_00000005</td>\n",
       "      <td>5</td>\n",
       "      <td>1</td>\n",
       "      <td>3491384</td>\n",
       "      <td>3491384</td>\n",
       "    </tr>\n",
       "  </tbody>\n",
       "</table>\n",
       "</div>"
      ],
      "text/plain": [
       "  usuario_afiliado  recencia  frecuencia  ticket_promedio  total_ventas\n",
       "0      id_00000001        25          12          5381832      64581988\n",
       "1      id_00000002         0           6          5234308      31405850\n",
       "2      id_00000003         5           9          4498677      40488095\n",
       "3      id_00000004         6           5          3752627      18763137\n",
       "4      id_00000005         5           1          3491384       3491384"
      ]
     },
     "execution_count": 11,
     "metadata": {},
     "output_type": "execute_result"
    }
   ],
   "source": [
    "df.head()"
   ]
  },
  {
   "cell_type": "markdown",
   "metadata": {},
   "source": [
    "# K-means "
   ]
  },
  {
   "cell_type": "markdown",
   "metadata": {},
   "source": [
    "Supuestos:\n",
    "\n",
    "-Las variables están simétricamente distribuidas (no hay sesgos)\n",
    "-Las variables tienen los mismo valores promedio\n",
    "-Las variables tienen la misma varianza"
   ]
  },
  {
   "cell_type": "code",
   "execution_count": 12,
   "metadata": {},
   "outputs": [],
   "source": [
    "#Buscar variables con sesgos:"
   ]
  },
  {
   "cell_type": "code",
   "execution_count": 13,
   "metadata": {},
   "outputs": [
    {
     "data": {
      "image/png": "[encoded data removed]",
      "text/plain": [
       "<Figure size 432x288 with 1 Axes>"
      ]
     },
     "metadata": {
      "needs_background": "light"
     },
     "output_type": "display_data"
    }
   ],
   "source": [
    "sns.distplot(df['recencia'])\n",
    "plt.show()"
   ]
  },
  {
   "cell_type": "code",
   "execution_count": 14,
   "metadata": {},
   "outputs": [
    {
     "data": {
      "image/png": "[encoded data removed]",
      "text/plain": [
       "<Figure size 432x288 with 1 Axes>"
      ]
     },
     "metadata": {
      "needs_background": "light"
     },
     "output_type": "display_data"
    }
   ],
   "source": [
    "sns.distplot(df['frecuencia'])\n",
    "plt.show()"
   ]
  },
  {
   "cell_type": "code",
   "execution_count": 15,
   "metadata": {},
   "outputs": [
    {
     "data": {
      "image/png": "[encoded data removed]",
      "text/plain": [
       "<Figure size 432x288 with 1 Axes>"
      ]
     },
     "metadata": {
      "needs_background": "light"
     },
     "output_type": "display_data"
    }
   ],
   "source": [
    "sns.distplot(df['ticket_promedio'])\n",
    "plt.show()"
   ]
  },
  {
   "cell_type": "code",
   "execution_count": 16,
   "metadata": {},
   "outputs": [
    {
     "data": {
      "image/png": "[encoded data removed]",
      "text/plain": [
       "<Figure size 432x288 with 1 Axes>"
      ]
     },
     "metadata": {
      "needs_background": "light"
     },
     "output_type": "display_data"
    }
   ],
   "source": [
    "sns.distplot(df['total_ventas'])\n",
    "plt.show()"
   ]
  },
  {
   "cell_type": "code",
   "execution_count": 17,
   "metadata": {},
   "outputs": [],
   "source": [
    "import numpy as np"
   ]
  },
  {
   "cell_type": "markdown",
   "metadata": {},
   "source": [
    "# Transformación de variables:"
   ]
  },
  {
   "cell_type": "code",
   "execution_count": 18,
   "metadata": {},
   "outputs": [
    {
     "name": "stdout",
     "output_type": "stream",
     "text": [
      "<class 'pandas.core.frame.DataFrame'>\n",
      "Int64Index: 236546 entries, 0 to 236545\n",
      "Data columns (total 5 columns):\n",
      "usuario_afiliado    236546 non-null object\n",
      "recencia            236546 non-null int64\n",
      "frecuencia          236546 non-null int64\n",
      "ticket_promedio     236546 non-null int64\n",
      "total_ventas        236546 non-null int64\n",
      "dtypes: int64(4), object(1)\n",
      "memory usage: 10.8+ MB\n"
     ]
    }
   ],
   "source": [
    "df.info()"
   ]
  },
  {
   "cell_type": "code",
   "execution_count": null,
   "metadata": {},
   "outputs": [],
   "source": []
  },
  {
   "cell_type": "code",
   "execution_count": 19,
   "metadata": {},
   "outputs": [
    {
     "data": {
      "image/png": "[encoded data removed]",
      "text/plain": [
       "<Figure size 432x288 with 1 Axes>"
      ]
     },
     "metadata": {
      "needs_background": "light"
     },
     "output_type": "display_data"
    }
   ],
   "source": [
    "df['recencia']= df['recencia']+0.0001\n",
    "\n",
    "rec_log= np.log(df['recencia'])\n",
    "sns.distplot(df['recencia'])\n",
    "plt.show()"
   ]
  },
  {
   "cell_type": "code",
   "execution_count": 20,
   "metadata": {},
   "outputs": [
    {
     "data": {
      "image/png": "[encoded data removed]",
      "text/plain": [
       "<Figure size 432x288 with 1 Axes>"
      ]
     },
     "metadata": {
      "needs_background": "light"
     },
     "output_type": "display_data"
    }
   ],
   "source": [
    "freq_log= np.log(df['frecuencia'])\n",
    "sns.distplot(freq_log)\n",
    "plt.show()\n"
   ]
  },
  {
   "cell_type": "code",
   "execution_count": 21,
   "metadata": {},
   "outputs": [
    {
     "data": {
      "image/png": "[encoded data removed]",
      "text/plain": [
       "<Figure size 432x288 with 1 Axes>"
      ]
     },
     "metadata": {
      "needs_background": "light"
     },
     "output_type": "display_data"
    }
   ],
   "source": [
    "ticket_log= np.log(df['ticket_promedio'])\n",
    "sns.distplot(ticket_log)\n",
    "plt.show()"
   ]
  },
  {
   "cell_type": "code",
   "execution_count": 22,
   "metadata": {},
   "outputs": [
    {
     "data": {
      "image/png": "[encoded data removed]",
      "text/plain": [
       "<Figure size 432x288 with 1 Axes>"
      ]
     },
     "metadata": {
      "needs_background": "light"
     },
     "output_type": "display_data"
    }
   ],
   "source": [
    "ventas_log= np.log(df['total_ventas'])\n",
    "sns.distplot(ventas_log)\n",
    "plt.show()"
   ]
  },
  {
   "cell_type": "code",
   "execution_count": 23,
   "metadata": {},
   "outputs": [
    {
     "data": {
      "text/plain": [
       "<matplotlib.axes._subplots.AxesSubplot at 0x185bac4dc50>"
      ]
     },
     "execution_count": 23,
     "metadata": {},
     "output_type": "execute_result"
    },
    {
     "data": {
      "image/png": "[encoded data removed]",
      "text/plain": [
       "<Figure size 432x288 with 1 Axes>"
      ]
     },
     "metadata": {
      "needs_background": "light"
     },
     "output_type": "display_data"
    }
   ],
   "source": [
    "sns.scatterplot(x= 'recencia', y='total_ventas', data= df)"
   ]
  },
  {
   "cell_type": "code",
   "execution_count": null,
   "metadata": {},
   "outputs": [],
   "source": []
  },
  {
   "cell_type": "code",
   "execution_count": 24,
   "metadata": {},
   "outputs": [
    {
     "data": {
      "text/plain": [
       "<matplotlib.axes._subplots.AxesSubplot at 0x185b87ae518>"
      ]
     },
     "execution_count": 24,
     "metadata": {},
     "output_type": "execute_result"
    },
    {
     "data": {
      "image/png": "[encoded data removed]",
      "text/plain": [
       "<Figure size 432x288 with 1 Axes>"
      ]
     },
     "metadata": {
      "needs_background": "light"
     },
     "output_type": "display_data"
    }
   ],
   "source": [
    "sns.scatterplot(x= 'frecuencia', y='total_ventas', data= df)"
   ]
  },
  {
   "cell_type": "code",
   "execution_count": null,
   "metadata": {},
   "outputs": [],
   "source": []
  },
  {
   "cell_type": "code",
   "execution_count": 25,
   "metadata": {},
   "outputs": [],
   "source": [
    "corr=df.corr()"
   ]
  },
  {
   "cell_type": "code",
   "execution_count": 26,
   "metadata": {},
   "outputs": [
    {
     "data": {
      "text/plain": [
       "<matplotlib.axes._subplots.AxesSubplot at 0x185b78ef400>"
      ]
     },
     "execution_count": 26,
     "metadata": {},
     "output_type": "execute_result"
    },
    {
     "data": {
      "image/png": "[encoded data removed]",
      "text/plain": [
       "<Figure size 432x288 with 2 Axes>"
      ]
     },
     "metadata": {
      "needs_background": "light"
     },
     "output_type": "display_data"
    }
   ],
   "source": [
    "sns.heatmap(corr, \n",
    "           xticklabels=corr.columns,\n",
    "           yticklabels=corr.columns, annot=True)"
   ]
  },
  {
   "cell_type": "code",
   "execution_count": null,
   "metadata": {},
   "outputs": [],
   "source": []
  },
  {
   "cell_type": "code",
   "execution_count": null,
   "metadata": {},
   "outputs": [],
   "source": []
  },
  {
   "cell_type": "markdown",
   "metadata": {},
   "source": [
    "# Centrado y escalado de variables"
   ]
  },
  {
   "cell_type": "code",
   "execution_count": 27,
   "metadata": {
    "scrolled": true
   },
   "outputs": [
    {
     "data": {
      "text/html": [
       "<div>\n",
       "<style scoped>\n",
       "    .dataframe tbody tr th:only-of-type {\n",
       "        vertical-align: middle;\n",
       "    }\n",
       "\n",
       "    .dataframe tbody tr th {\n",
       "        vertical-align: top;\n",
       "    }\n",
       "\n",
       "    .dataframe thead th {\n",
       "        text-align: right;\n",
       "    }\n",
       "</style>\n",
       "<table border=\"1\" class=\"dataframe\">\n",
       "  <thead>\n",
       "    <tr style=\"text-align: right;\">\n",
       "      <th></th>\n",
       "      <th>recencia</th>\n",
       "      <th>frecuencia</th>\n",
       "      <th>total_ventas</th>\n",
       "    </tr>\n",
       "  </thead>\n",
       "  <tbody>\n",
       "    <tr>\n",
       "      <th>0</th>\n",
       "      <td>25.0001</td>\n",
       "      <td>12</td>\n",
       "      <td>64581988</td>\n",
       "    </tr>\n",
       "    <tr>\n",
       "      <th>1</th>\n",
       "      <td>0.0001</td>\n",
       "      <td>6</td>\n",
       "      <td>31405850</td>\n",
       "    </tr>\n",
       "    <tr>\n",
       "      <th>2</th>\n",
       "      <td>5.0001</td>\n",
       "      <td>9</td>\n",
       "      <td>40488095</td>\n",
       "    </tr>\n",
       "    <tr>\n",
       "      <th>3</th>\n",
       "      <td>6.0001</td>\n",
       "      <td>5</td>\n",
       "      <td>18763137</td>\n",
       "    </tr>\n",
       "    <tr>\n",
       "      <th>4</th>\n",
       "      <td>5.0001</td>\n",
       "      <td>1</td>\n",
       "      <td>3491384</td>\n",
       "    </tr>\n",
       "    <tr>\n",
       "      <th>5</th>\n",
       "      <td>2.0001</td>\n",
       "      <td>4</td>\n",
       "      <td>12143350</td>\n",
       "    </tr>\n",
       "    <tr>\n",
       "      <th>6</th>\n",
       "      <td>158.0001</td>\n",
       "      <td>1</td>\n",
       "      <td>2949250</td>\n",
       "    </tr>\n",
       "    <tr>\n",
       "      <th>7</th>\n",
       "      <td>2.0001</td>\n",
       "      <td>4</td>\n",
       "      <td>10494200</td>\n",
       "    </tr>\n",
       "    <tr>\n",
       "      <th>8</th>\n",
       "      <td>0.0001</td>\n",
       "      <td>1</td>\n",
       "      <td>2396200</td>\n",
       "    </tr>\n",
       "    <tr>\n",
       "      <th>9</th>\n",
       "      <td>39.0001</td>\n",
       "      <td>1</td>\n",
       "      <td>2369450</td>\n",
       "    </tr>\n",
       "    <tr>\n",
       "      <th>10</th>\n",
       "      <td>5.0001</td>\n",
       "      <td>1</td>\n",
       "      <td>2252200</td>\n",
       "    </tr>\n",
       "    <tr>\n",
       "      <th>11</th>\n",
       "      <td>19.0001</td>\n",
       "      <td>1</td>\n",
       "      <td>2120000</td>\n",
       "    </tr>\n",
       "    <tr>\n",
       "      <th>12</th>\n",
       "      <td>5.0001</td>\n",
       "      <td>1</td>\n",
       "      <td>2021500</td>\n",
       "    </tr>\n",
       "    <tr>\n",
       "      <th>13</th>\n",
       "      <td>2.0001</td>\n",
       "      <td>5</td>\n",
       "      <td>9046450</td>\n",
       "    </tr>\n",
       "    <tr>\n",
       "      <th>14</th>\n",
       "      <td>5.0001</td>\n",
       "      <td>2</td>\n",
       "      <td>3586247</td>\n",
       "    </tr>\n",
       "    <tr>\n",
       "      <th>15</th>\n",
       "      <td>5.0001</td>\n",
       "      <td>1</td>\n",
       "      <td>1761850</td>\n",
       "    </tr>\n",
       "    <tr>\n",
       "      <th>16</th>\n",
       "      <td>5.0001</td>\n",
       "      <td>1</td>\n",
       "      <td>1761150</td>\n",
       "    </tr>\n",
       "    <tr>\n",
       "      <th>17</th>\n",
       "      <td>23.0001</td>\n",
       "      <td>1</td>\n",
       "      <td>1715350</td>\n",
       "    </tr>\n",
       "    <tr>\n",
       "      <th>18</th>\n",
       "      <td>1.0001</td>\n",
       "      <td>11</td>\n",
       "      <td>18788210</td>\n",
       "    </tr>\n",
       "    <tr>\n",
       "      <th>19</th>\n",
       "      <td>95.0001</td>\n",
       "      <td>1</td>\n",
       "      <td>1692900</td>\n",
       "    </tr>\n",
       "    <tr>\n",
       "      <th>20</th>\n",
       "      <td>61.0001</td>\n",
       "      <td>6</td>\n",
       "      <td>10009690</td>\n",
       "    </tr>\n",
       "    <tr>\n",
       "      <th>21</th>\n",
       "      <td>5.0001</td>\n",
       "      <td>1</td>\n",
       "      <td>1656350</td>\n",
       "    </tr>\n",
       "    <tr>\n",
       "      <th>22</th>\n",
       "      <td>31.0001</td>\n",
       "      <td>1</td>\n",
       "      <td>1628200</td>\n",
       "    </tr>\n",
       "    <tr>\n",
       "      <th>23</th>\n",
       "      <td>55.0001</td>\n",
       "      <td>1</td>\n",
       "      <td>1618600</td>\n",
       "    </tr>\n",
       "    <tr>\n",
       "      <th>24</th>\n",
       "      <td>5.0001</td>\n",
       "      <td>1</td>\n",
       "      <td>1609600</td>\n",
       "    </tr>\n",
       "    <tr>\n",
       "      <th>25</th>\n",
       "      <td>5.0001</td>\n",
       "      <td>1</td>\n",
       "      <td>1562300</td>\n",
       "    </tr>\n",
       "    <tr>\n",
       "      <th>26</th>\n",
       "      <td>118.0001</td>\n",
       "      <td>1</td>\n",
       "      <td>1546200</td>\n",
       "    </tr>\n",
       "    <tr>\n",
       "      <th>27</th>\n",
       "      <td>5.0001</td>\n",
       "      <td>1</td>\n",
       "      <td>1513065</td>\n",
       "    </tr>\n",
       "    <tr>\n",
       "      <th>28</th>\n",
       "      <td>153.0001</td>\n",
       "      <td>1</td>\n",
       "      <td>1483350</td>\n",
       "    </tr>\n",
       "    <tr>\n",
       "      <th>29</th>\n",
       "      <td>7.0001</td>\n",
       "      <td>7</td>\n",
       "      <td>10198050</td>\n",
       "    </tr>\n",
       "    <tr>\n",
       "      <th>...</th>\n",
       "      <td>...</td>\n",
       "      <td>...</td>\n",
       "      <td>...</td>\n",
       "    </tr>\n",
       "    <tr>\n",
       "      <th>236516</th>\n",
       "      <td>169.0001</td>\n",
       "      <td>1</td>\n",
       "      <td>500</td>\n",
       "    </tr>\n",
       "    <tr>\n",
       "      <th>236517</th>\n",
       "      <td>124.0001</td>\n",
       "      <td>1</td>\n",
       "      <td>500</td>\n",
       "    </tr>\n",
       "    <tr>\n",
       "      <th>236518</th>\n",
       "      <td>116.0001</td>\n",
       "      <td>1</td>\n",
       "      <td>500</td>\n",
       "    </tr>\n",
       "    <tr>\n",
       "      <th>236519</th>\n",
       "      <td>62.0001</td>\n",
       "      <td>1</td>\n",
       "      <td>500</td>\n",
       "    </tr>\n",
       "    <tr>\n",
       "      <th>236520</th>\n",
       "      <td>123.0001</td>\n",
       "      <td>1</td>\n",
       "      <td>466</td>\n",
       "    </tr>\n",
       "    <tr>\n",
       "      <th>236521</th>\n",
       "      <td>115.0001</td>\n",
       "      <td>1</td>\n",
       "      <td>466</td>\n",
       "    </tr>\n",
       "    <tr>\n",
       "      <th>236522</th>\n",
       "      <td>45.0001</td>\n",
       "      <td>1</td>\n",
       "      <td>466</td>\n",
       "    </tr>\n",
       "    <tr>\n",
       "      <th>236523</th>\n",
       "      <td>32.0001</td>\n",
       "      <td>1</td>\n",
       "      <td>466</td>\n",
       "    </tr>\n",
       "    <tr>\n",
       "      <th>236524</th>\n",
       "      <td>15.0001</td>\n",
       "      <td>1</td>\n",
       "      <td>466</td>\n",
       "    </tr>\n",
       "    <tr>\n",
       "      <th>236525</th>\n",
       "      <td>161.0001</td>\n",
       "      <td>1</td>\n",
       "      <td>450</td>\n",
       "    </tr>\n",
       "    <tr>\n",
       "      <th>236526</th>\n",
       "      <td>115.0001</td>\n",
       "      <td>1</td>\n",
       "      <td>450</td>\n",
       "    </tr>\n",
       "    <tr>\n",
       "      <th>236527</th>\n",
       "      <td>89.0001</td>\n",
       "      <td>1</td>\n",
       "      <td>450</td>\n",
       "    </tr>\n",
       "    <tr>\n",
       "      <th>236528</th>\n",
       "      <td>34.0001</td>\n",
       "      <td>1</td>\n",
       "      <td>450</td>\n",
       "    </tr>\n",
       "    <tr>\n",
       "      <th>236529</th>\n",
       "      <td>24.0001</td>\n",
       "      <td>1</td>\n",
       "      <td>450</td>\n",
       "    </tr>\n",
       "    <tr>\n",
       "      <th>236530</th>\n",
       "      <td>23.0001</td>\n",
       "      <td>1</td>\n",
       "      <td>450</td>\n",
       "    </tr>\n",
       "    <tr>\n",
       "      <th>236531</th>\n",
       "      <td>14.0001</td>\n",
       "      <td>1</td>\n",
       "      <td>450</td>\n",
       "    </tr>\n",
       "    <tr>\n",
       "      <th>236532</th>\n",
       "      <td>173.0001</td>\n",
       "      <td>1</td>\n",
       "      <td>400</td>\n",
       "    </tr>\n",
       "    <tr>\n",
       "      <th>236533</th>\n",
       "      <td>123.0001</td>\n",
       "      <td>1</td>\n",
       "      <td>400</td>\n",
       "    </tr>\n",
       "    <tr>\n",
       "      <th>236534</th>\n",
       "      <td>102.0001</td>\n",
       "      <td>1</td>\n",
       "      <td>400</td>\n",
       "    </tr>\n",
       "    <tr>\n",
       "      <th>236535</th>\n",
       "      <td>96.0001</td>\n",
       "      <td>1</td>\n",
       "      <td>400</td>\n",
       "    </tr>\n",
       "    <tr>\n",
       "      <th>236536</th>\n",
       "      <td>94.0001</td>\n",
       "      <td>1</td>\n",
       "      <td>400</td>\n",
       "    </tr>\n",
       "    <tr>\n",
       "      <th>236537</th>\n",
       "      <td>69.0001</td>\n",
       "      <td>1</td>\n",
       "      <td>400</td>\n",
       "    </tr>\n",
       "    <tr>\n",
       "      <th>236538</th>\n",
       "      <td>62.0001</td>\n",
       "      <td>1</td>\n",
       "      <td>400</td>\n",
       "    </tr>\n",
       "    <tr>\n",
       "      <th>236539</th>\n",
       "      <td>60.0001</td>\n",
       "      <td>1</td>\n",
       "      <td>400</td>\n",
       "    </tr>\n",
       "    <tr>\n",
       "      <th>236540</th>\n",
       "      <td>43.0001</td>\n",
       "      <td>1</td>\n",
       "      <td>400</td>\n",
       "    </tr>\n",
       "    <tr>\n",
       "      <th>236541</th>\n",
       "      <td>39.0001</td>\n",
       "      <td>1</td>\n",
       "      <td>400</td>\n",
       "    </tr>\n",
       "    <tr>\n",
       "      <th>236542</th>\n",
       "      <td>35.0001</td>\n",
       "      <td>1</td>\n",
       "      <td>400</td>\n",
       "    </tr>\n",
       "    <tr>\n",
       "      <th>236543</th>\n",
       "      <td>7.0001</td>\n",
       "      <td>1</td>\n",
       "      <td>400</td>\n",
       "    </tr>\n",
       "    <tr>\n",
       "      <th>236544</th>\n",
       "      <td>7.0001</td>\n",
       "      <td>1</td>\n",
       "      <td>400</td>\n",
       "    </tr>\n",
       "    <tr>\n",
       "      <th>236545</th>\n",
       "      <td>6.0001</td>\n",
       "      <td>1</td>\n",
       "      <td>400</td>\n",
       "    </tr>\n",
       "  </tbody>\n",
       "</table>\n",
       "<p>236546 rows × 3 columns</p>\n",
       "</div>"
      ],
      "text/plain": [
       "        recencia  frecuencia  total_ventas\n",
       "0        25.0001          12      64581988\n",
       "1         0.0001           6      31405850\n",
       "2         5.0001           9      40488095\n",
       "3         6.0001           5      18763137\n",
       "4         5.0001           1       3491384\n",
       "5         2.0001           4      12143350\n",
       "6       158.0001           1       2949250\n",
       "7         2.0001           4      10494200\n",
       "8         0.0001           1       2396200\n",
       "9        39.0001           1       2369450\n",
       "10        5.0001           1       2252200\n",
       "11       19.0001           1       2120000\n",
       "12        5.0001           1       2021500\n",
       "13        2.0001           5       9046450\n",
       "14        5.0001           2       3586247\n",
       "15        5.0001           1       1761850\n",
       "16        5.0001           1       1761150\n",
       "17       23.0001           1       1715350\n",
       "18        1.0001          11      18788210\n",
       "19       95.0001           1       1692900\n",
       "20       61.0001           6      10009690\n",
       "21        5.0001           1       1656350\n",
       "22       31.0001           1       1628200\n",
       "23       55.0001           1       1618600\n",
       "24        5.0001           1       1609600\n",
       "25        5.0001           1       1562300\n",
       "26      118.0001           1       1546200\n",
       "27        5.0001           1       1513065\n",
       "28      153.0001           1       1483350\n",
       "29        7.0001           7      10198050\n",
       "...          ...         ...           ...\n",
       "236516  169.0001           1           500\n",
       "236517  124.0001           1           500\n",
       "236518  116.0001           1           500\n",
       "236519   62.0001           1           500\n",
       "236520  123.0001           1           466\n",
       "236521  115.0001           1           466\n",
       "236522   45.0001           1           466\n",
       "236523   32.0001           1           466\n",
       "236524   15.0001           1           466\n",
       "236525  161.0001           1           450\n",
       "236526  115.0001           1           450\n",
       "236527   89.0001           1           450\n",
       "236528   34.0001           1           450\n",
       "236529   24.0001           1           450\n",
       "236530   23.0001           1           450\n",
       "236531   14.0001           1           450\n",
       "236532  173.0001           1           400\n",
       "236533  123.0001           1           400\n",
       "236534  102.0001           1           400\n",
       "236535   96.0001           1           400\n",
       "236536   94.0001           1           400\n",
       "236537   69.0001           1           400\n",
       "236538   62.0001           1           400\n",
       "236539   60.0001           1           400\n",
       "236540   43.0001           1           400\n",
       "236541   39.0001           1           400\n",
       "236542   35.0001           1           400\n",
       "236543    7.0001           1           400\n",
       "236544    7.0001           1           400\n",
       "236545    6.0001           1           400\n",
       "\n",
       "[236546 rows x 3 columns]"
      ]
     },
     "execution_count": 27,
     "metadata": {},
     "output_type": "execute_result"
    }
   ],
   "source": [
    "df.drop(['usuario_afiliado','ticket_promedio'], axis=1, inplace=True)\n",
    "df"
   ]
  },
  {
   "cell_type": "markdown",
   "metadata": {},
   "source": [
    "# Combinar escalado y centrado:"
   ]
  },
  {
   "cell_type": "code",
   "execution_count": 28,
   "metadata": {},
   "outputs": [],
   "source": [
    "from sklearn.preprocessing import StandardScaler\n",
    "\n"
   ]
  },
  {
   "cell_type": "code",
   "execution_count": 29,
   "metadata": {},
   "outputs": [
    {
     "name": "stderr",
     "output_type": "stream",
     "text": [
      "C:\\Users\\isa_m\\Anaconda3\\lib\\site-packages\\sklearn\\preprocessing\\data.py:645: DataConversionWarning: Data with input dtype int64, float64 were all converted to float64 by StandardScaler.\n",
      "  return self.partial_fit(X, y)\n",
      "C:\\Users\\isa_m\\Anaconda3\\lib\\site-packages\\ipykernel_launcher.py:3: DataConversionWarning: Data with input dtype int64, float64 were all converted to float64 by StandardScaler.\n",
      "  This is separate from the ipykernel package so we can avoid doing imports until\n"
     ]
    }
   ],
   "source": [
    "scaler=StandardScaler()\n",
    "scaler.fit(df)\n",
    "df_normalized= scaler.transform(df)"
   ]
  },
  {
   "cell_type": "code",
   "execution_count": 30,
   "metadata": {},
   "outputs": [
    {
     "name": "stdout",
     "output_type": "stream",
     "text": [
      "mean:  [0. 0. 0.]\n",
      "std:  [1. 1. 1.]\n"
     ]
    }
   ],
   "source": [
    "print('mean: ', df_normalized.mean(axis=0).round(2))\n",
    "print('std: ', df_normalized.std(axis=0).round(2))"
   ]
  },
  {
   "cell_type": "markdown",
   "metadata": {},
   "source": [
    "# Entrenar modelo. Definir número de Clusters"
   ]
  },
  {
   "cell_type": "code",
   "execution_count": 31,
   "metadata": {},
   "outputs": [],
   "source": [
    "from sklearn.cluster import KMeans"
   ]
  },
  {
   "cell_type": "code",
   "execution_count": 32,
   "metadata": {},
   "outputs": [],
   "source": [
    "#Iniciar modelo\n",
    "model= KMeans(n_clusters=2, random_state=1)"
   ]
  },
  {
   "cell_type": "code",
   "execution_count": 33,
   "metadata": {},
   "outputs": [],
   "source": [
    "#Entrenar modelo\n",
    "model.fit(df_normalized)\n",
    "\n",
    "cluster_labels= model.labels_"
   ]
  },
  {
   "cell_type": "code",
   "execution_count": 34,
   "metadata": {},
   "outputs": [],
   "source": [
    "df_k2= df.assign(Cluster= cluster_labels)"
   ]
  },
  {
   "cell_type": "code",
   "execution_count": 35,
   "metadata": {},
   "outputs": [
    {
     "data": {
      "text/html": [
       "<div>\n",
       "<style scoped>\n",
       "    .dataframe tbody tr th:only-of-type {\n",
       "        vertical-align: middle;\n",
       "    }\n",
       "\n",
       "    .dataframe tbody tr th {\n",
       "        vertical-align: top;\n",
       "    }\n",
       "\n",
       "    .dataframe thead tr th {\n",
       "        text-align: left;\n",
       "    }\n",
       "\n",
       "    .dataframe thead tr:last-of-type th {\n",
       "        text-align: right;\n",
       "    }\n",
       "</style>\n",
       "<table border=\"1\" class=\"dataframe\">\n",
       "  <thead>\n",
       "    <tr>\n",
       "      <th></th>\n",
       "      <th>recencia</th>\n",
       "      <th>frecuencia</th>\n",
       "      <th colspan=\"2\" halign=\"left\">total_ventas</th>\n",
       "    </tr>\n",
       "    <tr>\n",
       "      <th></th>\n",
       "      <th>mean</th>\n",
       "      <th>mean</th>\n",
       "      <th>mean</th>\n",
       "      <th>count</th>\n",
       "    </tr>\n",
       "    <tr>\n",
       "      <th>Cluster</th>\n",
       "      <th></th>\n",
       "      <th></th>\n",
       "      <th></th>\n",
       "      <th></th>\n",
       "    </tr>\n",
       "  </thead>\n",
       "  <tbody>\n",
       "    <tr>\n",
       "      <th>0</th>\n",
       "      <td>69.33</td>\n",
       "      <td>2.00</td>\n",
       "      <td>129033.60</td>\n",
       "      <td>221082</td>\n",
       "    </tr>\n",
       "    <tr>\n",
       "      <th>1</th>\n",
       "      <td>12.50</td>\n",
       "      <td>12.41</td>\n",
       "      <td>1457834.24</td>\n",
       "      <td>15464</td>\n",
       "    </tr>\n",
       "  </tbody>\n",
       "</table>\n",
       "</div>"
      ],
      "text/plain": [
       "        recencia frecuencia total_ventas        \n",
       "            mean       mean         mean   count\n",
       "Cluster                                         \n",
       "0          69.33       2.00    129033.60  221082\n",
       "1          12.50      12.41   1457834.24   15464"
      ]
     },
     "execution_count": 35,
     "metadata": {},
     "output_type": "execute_result"
    }
   ],
   "source": [
    "df_k2.groupby(['Cluster']).agg({\n",
    "    'recencia': 'mean',\n",
    "    'frecuencia': 'mean',\n",
    "    'total_ventas': ['mean', 'count'],\n",
    "}).round(2)"
   ]
  },
  {
   "cell_type": "code",
   "execution_count": 36,
   "metadata": {},
   "outputs": [],
   "source": [
    "#Ajustar Kmeans y calcular SSE para cada K\n",
    "\n",
    "sse= {}\n",
    "\n",
    "\n"
   ]
  },
  {
   "cell_type": "code",
   "execution_count": 37,
   "metadata": {},
   "outputs": [],
   "source": [
    "for k in range(1,11):\n",
    "    model= KMeans(n_clusters =k, random_state=1)\n",
    "    model.fit(df_normalized)\n",
    "    sse[k]= model.inertia_\n",
    "   \n"
   ]
  },
  {
   "cell_type": "code",
   "execution_count": 38,
   "metadata": {},
   "outputs": [
    {
     "data": {
      "image/png": "[encoded data removed]",
      "text/plain": [
       "<Figure size 432x288 with 1 Axes>"
      ]
     },
     "metadata": {
      "needs_background": "light"
     },
     "output_type": "display_data"
    }
   ],
   "source": [
    "#Graficar SSE para cada K\n",
    "\n",
    "plt.title('Metodo Elbow')\n",
    "plt.xlabel('k'); plt.ylabel('SSE')\n",
    "sns.pointplot(x=list(sse.keys()), y=list(sse.values()))\n",
    "plt.show()"
   ]
  },
  {
   "cell_type": "code",
   "execution_count": 39,
   "metadata": {},
   "outputs": [],
   "source": [
    "#Modelo con 3 clusters de acuerdo al Elbow Criterion\n",
    "model_3= KMeans(n_clusters=3, random_state=1)"
   ]
  },
  {
   "cell_type": "code",
   "execution_count": 40,
   "metadata": {},
   "outputs": [
    {
     "data": {
      "text/html": [
       "<div>\n",
       "<style scoped>\n",
       "    .dataframe tbody tr th:only-of-type {\n",
       "        vertical-align: middle;\n",
       "    }\n",
       "\n",
       "    .dataframe tbody tr th {\n",
       "        vertical-align: top;\n",
       "    }\n",
       "\n",
       "    .dataframe thead tr th {\n",
       "        text-align: left;\n",
       "    }\n",
       "\n",
       "    .dataframe thead tr:last-of-type th {\n",
       "        text-align: right;\n",
       "    }\n",
       "</style>\n",
       "<table border=\"1\" class=\"dataframe\">\n",
       "  <thead>\n",
       "    <tr>\n",
       "      <th></th>\n",
       "      <th>recencia</th>\n",
       "      <th>frecuencia</th>\n",
       "      <th colspan=\"2\" halign=\"left\">total_ventas</th>\n",
       "    </tr>\n",
       "    <tr>\n",
       "      <th></th>\n",
       "      <th>mean</th>\n",
       "      <th>mean</th>\n",
       "      <th>mean</th>\n",
       "      <th>count</th>\n",
       "    </tr>\n",
       "    <tr>\n",
       "      <th>Cluster</th>\n",
       "      <th></th>\n",
       "      <th></th>\n",
       "      <th></th>\n",
       "      <th></th>\n",
       "    </tr>\n",
       "  </thead>\n",
       "  <tbody>\n",
       "    <tr>\n",
       "      <th>0</th>\n",
       "      <td>29.99</td>\n",
       "      <td>2.81</td>\n",
       "      <td>200333.04</td>\n",
       "      <td>134687</td>\n",
       "    </tr>\n",
       "    <tr>\n",
       "      <th>1</th>\n",
       "      <td>121.70</td>\n",
       "      <td>1.34</td>\n",
       "      <td>76639.74</td>\n",
       "      <td>93624</td>\n",
       "    </tr>\n",
       "    <tr>\n",
       "      <th>2</th>\n",
       "      <td>10.63</td>\n",
       "      <td>15.81</td>\n",
       "      <td>2053841.09</td>\n",
       "      <td>8235</td>\n",
       "    </tr>\n",
       "  </tbody>\n",
       "</table>\n",
       "</div>"
      ],
      "text/plain": [
       "        recencia frecuencia total_ventas        \n",
       "            mean       mean         mean   count\n",
       "Cluster                                         \n",
       "0          29.99       2.81    200333.04  134687\n",
       "1         121.70       1.34     76639.74   93624\n",
       "2          10.63      15.81   2053841.09    8235"
      ]
     },
     "execution_count": 40,
     "metadata": {},
     "output_type": "execute_result"
    }
   ],
   "source": [
    "#Entrenar modelo\n",
    "model_3.fit(df_normalized)\n",
    "\n",
    "cluster_labels_3= model_3.labels_\n",
    "\n",
    "df_k3= df.assign(Cluster= cluster_labels_3)\n",
    "\n",
    "df_k3.groupby(['Cluster']).agg({\n",
    "    'recencia': 'mean',\n",
    "    'frecuencia': 'mean',\n",
    "    'total_ventas': ['mean', 'count'],\n",
    "}).round(2)"
   ]
  },
  {
   "cell_type": "code",
   "execution_count": 41,
   "metadata": {},
   "outputs": [],
   "source": [
    "df_k3['label']= cluster_labels_3"
   ]
  },
  {
   "cell_type": "code",
   "execution_count": null,
   "metadata": {},
   "outputs": [],
   "source": []
  },
  {
   "cell_type": "markdown",
   "metadata": {},
   "source": [
    "El cluster 2 es el que tiene menor recencia media, mayor frecuencia y mayor total de ventas en promedio. \n",
    "Se asigna al Grupo Alto.\n",
    "\n",
    "El Cluster 0 se asigna al grupo Medio. Es el siguiente con menor recencia y mayor frecuencia de compra.\n",
    "\n",
    "Por último, el cluster 1 se asigna al grupo bajo. Son los clientes con mayor recencia y menor frecuencia de compra\n"
   ]
  },
  {
   "cell_type": "code",
   "execution_count": 42,
   "metadata": {},
   "outputs": [],
   "source": [
    "from mpl_toolkits.mplot3d import Axes3D\n",
    "%matplotlib inline\n",
    "from mpl_toolkits.mplot3d import Axes3D\n",
    "plt.rcParams['figure.figsize'] = (16, 9)\n",
    "plt.style.use('ggplot')"
   ]
  },
  {
   "cell_type": "code",
   "execution_count": 43,
   "metadata": {},
   "outputs": [
    {
     "data": {
      "text/html": [
       "<div>\n",
       "<style scoped>\n",
       "    .dataframe tbody tr th:only-of-type {\n",
       "        vertical-align: middle;\n",
       "    }\n",
       "\n",
       "    .dataframe tbody tr th {\n",
       "        vertical-align: top;\n",
       "    }\n",
       "\n",
       "    .dataframe thead th {\n",
       "        text-align: right;\n",
       "    }\n",
       "</style>\n",
       "<table border=\"1\" class=\"dataframe\">\n",
       "  <thead>\n",
       "    <tr style=\"text-align: right;\">\n",
       "      <th></th>\n",
       "      <th>recencia</th>\n",
       "      <th>frecuencia</th>\n",
       "      <th>total_ventas</th>\n",
       "      <th>Cluster</th>\n",
       "      <th>label</th>\n",
       "    </tr>\n",
       "  </thead>\n",
       "  <tbody>\n",
       "    <tr>\n",
       "      <th>0</th>\n",
       "      <td>25.0001</td>\n",
       "      <td>12</td>\n",
       "      <td>64581988</td>\n",
       "      <td>2</td>\n",
       "      <td>2</td>\n",
       "    </tr>\n",
       "    <tr>\n",
       "      <th>1</th>\n",
       "      <td>0.0001</td>\n",
       "      <td>6</td>\n",
       "      <td>31405850</td>\n",
       "      <td>2</td>\n",
       "      <td>2</td>\n",
       "    </tr>\n",
       "    <tr>\n",
       "      <th>2</th>\n",
       "      <td>5.0001</td>\n",
       "      <td>9</td>\n",
       "      <td>40488095</td>\n",
       "      <td>2</td>\n",
       "      <td>2</td>\n",
       "    </tr>\n",
       "    <tr>\n",
       "      <th>3</th>\n",
       "      <td>6.0001</td>\n",
       "      <td>5</td>\n",
       "      <td>18763137</td>\n",
       "      <td>2</td>\n",
       "      <td>2</td>\n",
       "    </tr>\n",
       "    <tr>\n",
       "      <th>4</th>\n",
       "      <td>5.0001</td>\n",
       "      <td>1</td>\n",
       "      <td>3491384</td>\n",
       "      <td>2</td>\n",
       "      <td>2</td>\n",
       "    </tr>\n",
       "  </tbody>\n",
       "</table>\n",
       "</div>"
      ],
      "text/plain": [
       "   recencia  frecuencia  total_ventas  Cluster  label\n",
       "0   25.0001          12      64581988        2      2\n",
       "1    0.0001           6      31405850        2      2\n",
       "2    5.0001           9      40488095        2      2\n",
       "3    6.0001           5      18763137        2      2\n",
       "4    5.0001           1       3491384        2      2"
      ]
     },
     "execution_count": 43,
     "metadata": {},
     "output_type": "execute_result"
    }
   ],
   "source": [
    "df_k3.head()"
   ]
  },
  {
   "cell_type": "code",
   "execution_count": 44,
   "metadata": {
    "scrolled": false
   },
   "outputs": [
    {
     "data": {
      "text/plain": [
       "<mpl_toolkits.mplot3d.art3d.Path3DCollection at 0x185bac196d8>"
      ]
     },
     "execution_count": 44,
     "metadata": {},
     "output_type": "execute_result"
    },
    {
     "data": {
      "image/png": "[encoded data removed]",
      "text/plain": [
       "<Figure size 1152x648 with 1 Axes>"
      ]
     },
     "metadata": {},
     "output_type": "display_data"
    }
   ],
   "source": [
    "cluster_labels_3= model_3.labels_\n",
    "C = model_3.cluster_centers_\n",
    "\n",
    "\n",
    "\n",
    "colores=['red','green','cyan']\n",
    "asignar=[]\n",
    "for row in cluster_labels_3:\n",
    "    asignar.append(colores[row])\n",
    " \n",
    "fig = plt.figure()\n",
    "ax = Axes3D(fig)\n",
    "ax.scatter(df_k3['recencia'], df_k3['frecuencia'], df_k3['total_ventas'], c=asignar,s=60)\n",
    "#ax.scatter(C[:, 0], C[:, 1], C[:, 2], marker='*', c=colores, s=1000)"
   ]
  },
  {
   "cell_type": "code",
   "execution_count": null,
   "metadata": {},
   "outputs": [],
   "source": []
  },
  {
   "cell_type": "code",
   "execution_count": null,
   "metadata": {},
   "outputs": [],
   "source": []
  }
 ],
 "metadata": {
  "kernelspec": {
   "display_name": "Python 3",
   "language": "python",
   "name": "python3"
  },
  "language_info": {
   "codemirror_mode": {
    "name": "ipython",
    "version": 3
   },
   "file_extension": ".py",
   "mimetype": "text/x-python",
   "name": "python",
   "nbconvert_exporter": "python",
   "pygments_lexer": "ipython3",
   "version": "3.7.3"
  }
 },
 "nbformat": 4,
 "nbformat_minor": 2
}
